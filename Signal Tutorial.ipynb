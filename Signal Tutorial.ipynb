{
 "cells": [
  {
   "cell_type": "markdown",
   "metadata": {},
   "source": [
    "# 1. Setting things up\n",
    "\n",
    "Let's take a look at `setup.py`, which we use to, well, set up stuff:"
   ]
  },
  {
   "cell_type": "code",
   "execution_count": 13,
   "metadata": {
    "collapsed": false
   },
   "outputs": [
    {
     "data": {
      "text/plain": [
       "<module 'setup' from '/home/manolo/Philosophy/Writings/Software/Signal/setup.py'>"
      ]
     },
     "execution_count": 13,
     "metadata": {},
     "output_type": "execute_result"
    }
   ],
   "source": [
    "import setup as s\n",
    "import imp\n",
    "imp.reload(s)"
   ]
  },
  {
   "cell_type": "markdown",
   "metadata": {},
   "source": [
    "Objects of the class `s.Strategies` tell the rest of the library what's the structure of the games that we will be dealing with. For example for games with 3 states, 3 signals and 3 acts:"
   ]
  },
  {
   "cell_type": "code",
   "execution_count": 4,
   "metadata": {
    "collapsed": true
   },
   "outputs": [],
   "source": [
    "strats = s.Strategies(3, 3, 3)"
   ]
  },
  {
   "cell_type": "markdown",
   "metadata": {},
   "source": [
    "Now, in `strats` we have a bunch of data we will later need:"
   ]
  },
  {
   "cell_type": "code",
   "execution_count": 5,
   "metadata": {
    "collapsed": false
   },
   "outputs": [
    {
     "data": {
      "text/plain": [
       "array([[0, 0, 0],\n",
       "       [0, 0, 1],\n",
       "       [0, 0, 2],\n",
       "       [0, 1, 0],\n",
       "       [0, 1, 1],\n",
       "       [0, 1, 2],\n",
       "       [0, 2, 0],\n",
       "       [0, 2, 1],\n",
       "       [0, 2, 2],\n",
       "       [1, 0, 0],\n",
       "       [1, 0, 1],\n",
       "       [1, 0, 2],\n",
       "       [1, 1, 0],\n",
       "       [1, 1, 1],\n",
       "       [1, 1, 2],\n",
       "       [1, 2, 0],\n",
       "       [1, 2, 1],\n",
       "       [1, 2, 2],\n",
       "       [2, 0, 0],\n",
       "       [2, 0, 1],\n",
       "       [2, 0, 2],\n",
       "       [2, 1, 0],\n",
       "       [2, 1, 1],\n",
       "       [2, 1, 2],\n",
       "       [2, 2, 0],\n",
       "       [2, 2, 1],\n",
       "       [2, 2, 2]])"
      ]
     },
     "execution_count": 5,
     "metadata": {},
     "output_type": "execute_result"
    }
   ],
   "source": [
    "strats.senderstrategies\n",
    "# all pure strats available to the sender; e.g. [2, 0, 1] means send signal 2 in state 0,\n",
    "# signal 0 in state 1; signal 1 in state 2 (remember that in Python lists start at index 0)\n",
    "# receiverstrategies does the same for the receiver"
   ]
  },
  {
   "cell_type": "code",
   "execution_count": 6,
   "metadata": {
    "collapsed": false
   },
   "outputs": [
    {
     "data": {
      "text/plain": [
       "array([[[ 1.,  0.,  0.],\n",
       "        [ 1.,  0.,  0.],\n",
       "        [ 1.,  0.,  0.]],\n",
       "\n",
       "       [[ 1.,  0.,  0.],\n",
       "        [ 1.,  0.,  0.],\n",
       "        [ 0.,  1.,  0.]],\n",
       "\n",
       "       [[ 1.,  0.,  0.],\n",
       "        [ 1.,  0.,  0.],\n",
       "        [ 0.,  0.,  1.]],\n",
       "\n",
       "       [[ 1.,  0.,  0.],\n",
       "        [ 0.,  1.,  0.],\n",
       "        [ 1.,  0.,  0.]],\n",
       "\n",
       "       [[ 1.,  0.,  0.],\n",
       "        [ 0.,  1.,  0.],\n",
       "        [ 0.,  1.,  0.]],\n",
       "\n",
       "       [[ 1.,  0.,  0.],\n",
       "        [ 0.,  1.,  0.],\n",
       "        [ 0.,  0.,  1.]],\n",
       "\n",
       "       [[ 1.,  0.,  0.],\n",
       "        [ 0.,  0.,  1.],\n",
       "        [ 1.,  0.,  0.]],\n",
       "\n",
       "       [[ 1.,  0.,  0.],\n",
       "        [ 0.,  0.,  1.],\n",
       "        [ 0.,  1.,  0.]],\n",
       "\n",
       "       [[ 1.,  0.,  0.],\n",
       "        [ 0.,  0.,  1.],\n",
       "        [ 0.,  0.,  1.]],\n",
       "\n",
       "       [[ 0.,  1.,  0.],\n",
       "        [ 1.,  0.,  0.],\n",
       "        [ 1.,  0.,  0.]],\n",
       "\n",
       "       [[ 0.,  1.,  0.],\n",
       "        [ 1.,  0.,  0.],\n",
       "        [ 0.,  1.,  0.]],\n",
       "\n",
       "       [[ 0.,  1.,  0.],\n",
       "        [ 1.,  0.,  0.],\n",
       "        [ 0.,  0.,  1.]],\n",
       "\n",
       "       [[ 0.,  1.,  0.],\n",
       "        [ 0.,  1.,  0.],\n",
       "        [ 1.,  0.,  0.]],\n",
       "\n",
       "       [[ 0.,  1.,  0.],\n",
       "        [ 0.,  1.,  0.],\n",
       "        [ 0.,  1.,  0.]],\n",
       "\n",
       "       [[ 0.,  1.,  0.],\n",
       "        [ 0.,  1.,  0.],\n",
       "        [ 0.,  0.,  1.]],\n",
       "\n",
       "       [[ 0.,  1.,  0.],\n",
       "        [ 0.,  0.,  1.],\n",
       "        [ 1.,  0.,  0.]],\n",
       "\n",
       "       [[ 0.,  1.,  0.],\n",
       "        [ 0.,  0.,  1.],\n",
       "        [ 0.,  1.,  0.]],\n",
       "\n",
       "       [[ 0.,  1.,  0.],\n",
       "        [ 0.,  0.,  1.],\n",
       "        [ 0.,  0.,  1.]],\n",
       "\n",
       "       [[ 0.,  0.,  1.],\n",
       "        [ 1.,  0.,  0.],\n",
       "        [ 1.,  0.,  0.]],\n",
       "\n",
       "       [[ 0.,  0.,  1.],\n",
       "        [ 1.,  0.,  0.],\n",
       "        [ 0.,  1.,  0.]],\n",
       "\n",
       "       [[ 0.,  0.,  1.],\n",
       "        [ 1.,  0.,  0.],\n",
       "        [ 0.,  0.,  1.]],\n",
       "\n",
       "       [[ 0.,  0.,  1.],\n",
       "        [ 0.,  1.,  0.],\n",
       "        [ 1.,  0.,  0.]],\n",
       "\n",
       "       [[ 0.,  0.,  1.],\n",
       "        [ 0.,  1.,  0.],\n",
       "        [ 0.,  1.,  0.]],\n",
       "\n",
       "       [[ 0.,  0.,  1.],\n",
       "        [ 0.,  1.,  0.],\n",
       "        [ 0.,  0.,  1.]],\n",
       "\n",
       "       [[ 0.,  0.,  1.],\n",
       "        [ 0.,  0.,  1.],\n",
       "        [ 1.,  0.,  0.]],\n",
       "\n",
       "       [[ 0.,  0.,  1.],\n",
       "        [ 0.,  0.,  1.],\n",
       "        [ 0.,  1.,  0.]],\n",
       "\n",
       "       [[ 0.,  0.,  1.],\n",
       "        [ 0.,  0.,  1.],\n",
       "        [ 0.,  0.,  1.]]])"
      ]
     },
     "execution_count": 6,
     "metadata": {},
     "output_type": "execute_result"
    }
   ],
   "source": [
    "strats.senderstrategiesprobs\n",
    "# Same thing, given as explicit probability matrices. We don't use this at the moment;\n",
    "# this is here in case we at some point want to include mixed-strategists in the population at some point.\n",
    "# Note that the pure-strat probabilities are hardcoded at the moment.\n",
    "# receiverstrategiesprobs does the same for the receiver"
   ]
  },
  {
   "cell_type": "code",
   "execution_count": 8,
   "metadata": {
    "collapsed": false
   },
   "outputs": [
    {
     "data": {
      "text/plain": [
       "27"
      ]
     },
     "execution_count": 8,
     "metadata": {},
     "output_type": "execute_result"
    }
   ],
   "source": [
    "strats.lss # This gives the number of pure sender strats; lrs is the same for the receiver"
   ]
  },
  {
   "cell_type": "code",
   "execution_count": 10,
   "metadata": {
    "collapsed": false
   },
   "outputs": [
    {
     "data": {
      "text/plain": [
       "array([ 0.0533,  0.0386,  0.0881,  0.0688,  0.0292,  0.0022,  0.0627,\n",
       "        0.0106,  0.0194,  0.0155,  0.1007,  0.0068,  0.1404,  0.0324,\n",
       "        0.0211,  0.0352,  0.0362,  0.0278,  0.0186,  0.0198,  0.0123,\n",
       "        0.0042,  0.0028,  0.0039,  0.0919,  0.0099,  0.0475])"
      ]
     },
     "execution_count": 10,
     "metadata": {},
     "output_type": "execute_result"
    }
   ],
   "source": [
    "strats.random_sender()\n",
    "# This gives a random sender population structure.\n",
    "# It samples from the flat Dirichlet distribution over the (strats.lss - 1) simplex\n",
    "# random_receiver() does what one expects from it."
   ]
  },
  {
   "cell_type": "markdown",
   "metadata": {},
   "source": [
    "State chances, so far, are also hardcoded to equiprobability:"
   ]
  },
  {
   "cell_type": "code",
   "execution_count": 20,
   "metadata": {
    "collapsed": false
   },
   "outputs": [
    {
     "data": {
      "text/plain": [
       "array([ 0.3333,  0.3333,  0.3333])"
      ]
     },
     "execution_count": 20,
     "metadata": {},
     "output_type": "execute_result"
    }
   ],
   "source": [
    "strats.chances"
   ]
  },
  {
   "cell_type": "markdown",
   "metadata": {},
   "source": [
    "`s.Payoff_Functions` creates functions that calculate average payoffs, which we then need to run replicator dynamics, for example."
   ]
  },
  {
   "cell_type": "code",
   "execution_count": 14,
   "metadata": {
    "collapsed": true
   },
   "outputs": [],
   "source": [
    "weagree = s.np.array([1,1,2,2,3,3,2,2,3,3,1,1,3,3,1,1,2,2])\n",
    "# I'm using s.np to access NumPy, which setup.py imports"
   ]
  },
  {
   "cell_type": "markdown",
   "metadata": {},
   "source": [
    "`weagree` corresponds to the following payoff matrix\n",
    "\n",
    "|      || S1     | S2   | S3  |\n",
    "|---------------------- -------\n",
    "|A1    || 1,1    | 2,2 | 3,3  |\n",
    "|A2    || 2,2    | 3,3 | 1,1  |\n",
    "|A3    || 3,3    | 1,1 | 2,2  |\n",
    "\n",
    "This way of entering payoff matrices is taylor-made for the 3x3x3 case, and it's not very flexible, or readable. At some point we'll need to provide a better way. The obvious choice is something like\n",
    "\n",
    "    weagree_better = np.array([[(1,1), (2,2), (3,3)],\n",
    "                               [(2,2), (3,3), (1,1)],\n",
    "                               [(3,3), (1,1), (2,2)]])\n",
    "\n",
    "\n",
    "# 2. Common Interest\n",
    "\n",
    "We can now calculate our common interest measures:\n"
   ]
  },
  {
   "cell_type": "code",
   "execution_count": 70,
   "metadata": {
    "collapsed": true
   },
   "outputs": [],
   "source": [
    "import commoninterest as cihttp://localhost:8888/notebooks/Signal%20Tutorial.ipynb#3.-Static-Analysis\n",
    "weagree_static = ci.Game(weagree)"
   ]
  },
  {
   "cell_type": "code",
   "execution_count": 73,
   "metadata": {
    "collapsed": false
   },
   "outputs": [
    {
     "data": {
      "text/plain": [
       "(0.0, 0.0, 2.0, 2.0, 3.0, 3.0)"
      ]
     },
     "execution_count": 73,
     "metadata": {},
     "output_type": "execute_result"
    }
   ],
   "source": [
    "C = weagree_static.kendalldistance\n",
    "Cstar = weagree_static.cistar\n",
    "Ksender = weagree_static.kendallsender\n",
    "Kreceiver = weagree_static.kendallreceiver\n",
    "Kstar_sender = weagree_static.starsender\n",
    "Kstar_receiver = weagree_static.starreceiver\n",
    "\n",
    "C, Cstar, Ksender, Kreceiver, Kstar_sender, Kstar_receiver"
   ]
  },
  {
   "cell_type": "markdown",
   "metadata": {},
   "source": [
    "The parameter one can see in the introduction of `cistar`, that `(0)` . is the value of a tie. Peter and I tried different values for ties, 0, 0.5, 1, etc.\n",
    "\n",
    "With `weagree_static` we can also interface with [gambit](http://www.gambit-project.org/) to calculate Nash equilibria. You need to have gambit installed for the following to run.\n",
    "\n",
    "# 3. Static Analysis"
   ]
  },
  {
   "cell_type": "code",
   "execution_count": 77,
   "metadata": {
    "collapsed": false
   },
   "outputs": [
    {
     "data": {
      "text/plain": [
       "['NE,0.000,0.000,1.000,0.000,0.000,1.000,0.000,0.000,1.000,0.000,0.000,1.000,0.000,0.000,1.000,0.000,0.000,1.000',\n",
       " 'NE,0.000,0.000,1.000,0.000,0.000,1.000,0.000,0.000,1.000,0.000,0.000,1.000,0.000,0.000,1.000,0.000,0.000,1.000',\n",
       " 'NE,1.000,0.000,0.000,0.000,0.000,1.000,0.000,1.000,0.000,0.000,0.000,1.000,1.000,0.000,0.000,0.000,1.000,0.000',\n",
       " 'NE,1.000,0.000,0.000,0.000,0.000,1.000,0.000,0.500,0.500,0.000,0.000,1.000,1.000,0.000,0.000,1.000,0.000,0.000',\n",
       " 'NE,0.750,0.250,0.000,0.000,0.000,1.000,0.000,0.500,0.500,0.000,0.000,1.000,0.000,0.000,1.000,0.500,0.500,0.000',\n",
       " 'NE,0.000,1.000,0.000,0.000,0.000,1.000,0.000,0.500,0.500,0.000,0.000,1.000,0.000,0.000,1.000,0.500,0.500,0.000',\n",
       " 'NE,0.000,1.000,0.000,0.000,0.000,1.000,0.000,0.000,1.000,0.000,0.000,1.000,0.000,0.000,1.000,1.000,0.000,0.000',\n",
       " 'NE,0.000,1.000,0.000,0.000,0.000,1.000,0.000,0.000,1.000,0.000,0.500,0.500,0.000,0.000,1.000,1.000,0.000,0.000',\n",
       " 'NE,0.000,0.000,1.000,0.000,0.000,1.000,0.000,0.000,1.000,0.000,0.000,1.000,0.000,0.000,1.000,0.000,0.000,1.000',\n",
       " 'NE,0.000,0.000,1.000,0.000,0.000,1.000,0.000,0.000,1.000,0.000,0.000,1.000,0.000,0.000,1.000,0.000,0.000,1.000',\n",
       " 'NE,0.000,0.000,1.000,1.000,0.000,0.000,0.000,0.000,1.000,0.000,1.000,0.000,0.000,0.000,1.000,0.000,0.000,1.000',\n",
       " 'NE,0.000,0.500,0.500,1.000,0.000,0.000,0.000,0.000,1.000,0.000,1.000,0.000,0.000,0.000,1.000,0.000,0.000,1.000',\n",
       " 'NE,0.000,1.000,0.000,1.000,0.000,0.000,0.000,0.000,1.000,0.000,1.000,0.000,0.000,0.000,1.000,1.000,0.000,0.000',\n",
       " 'NE,0.000,1.000,0.000,0.500,0.500,0.000,0.000,0.000,1.000,0.000,1.000,0.000,0.000,1.000,0.000,1.000,0.000,0.000',\n",
       " 'NE,0.000,0.500,0.500,0.750,0.250,0.000,0.000,0.000,1.000,0.000,1.000,0.000,0.000,1.000,0.000,0.500,0.000,0.500',\n",
       " 'NE,0.000,0.000,1.000,1.000,0.000,0.000,0.000,0.000,1.000,0.000,1.000,0.000,0.000,1.000,0.000,0.000,0.000,1.000',\n",
       " 'NE,0.000,0.000,1.000,0.000,0.000,1.000,0.000,0.000,1.000,0.000,0.000,1.000,0.000,0.000,1.000,0.000,0.000,1.000',\n",
       " 'NE,0.000,0.000,1.000,0.000,0.000,1.000,0.000,0.000,1.000,0.000,0.000,1.000,0.000,0.000,1.000,0.000,0.000,1.000',\n",
       " 'NE,0.000,1.000,0.000,0.000,0.500,0.500,0.000,0.000,1.000,0.000,0.500,0.500,0.000,0.500,0.500,1.000,0.000,0.000',\n",
       " 'NE,1.000,0.000,0.000,0.000,0.000,1.000,0.000,0.000,1.000,0.000,0.000,1.000,0.000,0.500,0.500,1.000,0.000,0.000',\n",
       " 'NE,0.000,0.000,1.000,0.000,0.000,1.000,0.000,0.000,1.000,0.000,0.000,1.000,0.000,0.000,1.000,0.000,0.000,1.000',\n",
       " 'NE,0.000,0.000,1.000,0.000,0.000,1.000,0.000,0.000,1.000,0.000,0.000,1.000,0.000,0.000,1.000,0.000,0.000,1.000',\n",
       " 'NE,0.000,0.000,1.000,0.000,1.000,0.000,0.000,0.000,1.000,0.000,0.000,1.000,0.000,1.000,0.000,0.000,0.000,1.000',\n",
       " 'NE,0.500,0.000,0.500,0.000,1.000,0.000,0.000,0.000,1.000,0.000,0.000,1.000,0.000,1.000,0.000,0.000,0.000,1.000',\n",
       " 'NE,1.000,0.000,0.000,0.000,1.000,0.000,0.000,0.000,1.000,0.000,0.000,1.000,0.000,1.000,0.000,1.000,0.000,0.000',\n",
       " 'NE,0.000,1.000,0.000,0.000,1.000,0.000,1.000,0.000,0.000,1.000,0.000,0.000,0.000,1.000,0.000,1.000,0.000,0.000',\n",
       " 'NE,0.000,0.500,0.500,0.000,1.000,0.000,0.000,0.000,1.000,0.500,0.000,0.500,0.000,1.000,0.000,0.500,0.000,0.500',\n",
       " 'NE,0.000,0.000,1.000,0.000,1.000,0.000,0.000,0.000,1.000,0.000,0.000,1.000,0.000,1.000,0.000,0.000,0.000,1.000',\n",
       " 'NE,0.000,0.000,1.000,0.000,0.000,1.000,0.000,0.000,1.000,0.000,0.000,1.000,0.000,0.000,1.000,0.000,0.000,1.000',\n",
       " 'NE,0.000,0.000,1.000,0.000,0.000,1.000,0.000,0.000,1.000,0.000,0.000,1.000,0.000,0.000,1.000,0.000,0.000,1.000',\n",
       " 'NE,0.000,1.000,0.000,0.000,0.500,0.500,0.750,0.000,0.250,1.000,0.000,0.000,0.000,0.500,0.500,1.000,0.000,0.000',\n",
       " 'NE,0.333,0.667,0.000,0.000,0.333,0.667,0.667,0.000,0.333,0.333,0.000,0.667,0.000,0.667,0.333,0.667,0.333,0.000',\n",
       " 'NE,1.000,0.000,0.000,0.000,0.000,1.000,0.500,0.000,0.500,0.000,0.000,1.000,0.000,0.750,0.250,0.500,0.500,0.000',\n",
       " 'NE,1.000,0.000,0.000,0.000,1.000,0.000,1.000,0.000,0.000,0.000,0.000,1.000,0.000,1.000,0.000,0.000,1.000,0.000',\n",
       " 'NE,0.500,0.000,0.500,0.000,0.750,0.250,1.000,0.000,0.000,0.500,0.000,0.500,0.000,1.000,0.000,0.000,1.000,0.000',\n",
       " 'NE,0.000,0.000,1.000,0.000,0.500,0.500,1.000,0.000,0.000,1.000,0.000,0.000,0.000,1.000,0.000,0.000,1.000,0.000',\n",
       " 'NE,0.000,0.000,1.000,0.000,1.000,0.000,1.000,0.000,0.000,1.000,0.000,0.000,0.000,1.000,0.000,0.000,0.000,1.000',\n",
       " 'NE,0.000,0.000,1.000,1.000,0.000,0.000,1.000,0.000,0.000,1.000,0.000,0.000,0.000,0.500,0.500,0.000,0.000,1.000',\n",
       " 'NE,0.000,0.000,1.000,0.500,0.000,0.500,1.000,0.000,0.000,1.000,0.000,0.000,0.000,0.500,0.500,0.000,0.500,0.500',\n",
       " 'NE,0.000,0.000,1.000,0.000,0.000,1.000,0.000,0.000,1.000,0.000,0.000,1.000,0.000,0.000,1.000,0.000,0.000,1.000',\n",
       " 'NE,0.000,0.000,1.000,1.000,0.000,0.000,0.500,0.000,0.500,0.500,0.500,0.000,0.000,0.750,0.250,0.000,0.000,1.000',\n",
       " 'NE,0.000,0.667,0.333,0.667,0.333,0.000,0.333,0.000,0.667,0.667,0.333,0.000,0.000,0.667,0.333,0.333,0.000,0.667',\n",
       " 'NE,0.000,0.000,1.000,0.000,0.000,1.000,0.000,0.000,1.000,0.000,0.000,1.000,0.000,0.000,1.000,0.000,0.000,1.000',\n",
       " 'NE,0.000,1.000,0.000,1.000,0.000,0.000,0.500,0.500,0.000,0.500,0.500,0.000,0.000,0.000,1.000,0.500,0.500,0.000',\n",
       " 'NE,0.000,0.750,0.250,1.000,0.000,0.000,0.500,0.000,0.500,0.500,0.500,0.000,0.000,0.000,1.000,0.000,0.000,1.000',\n",
       " 'NE,0.000,0.000,1.000,1.000,0.000,0.000,0.500,0.000,0.500,0.500,0.500,0.000,0.000,0.000,1.000,0.000,0.000,1.000',\n",
       " 'NE,0.000,0.000,1.000,0.000,0.000,1.000,0.000,0.000,1.000,0.000,0.000,1.000,0.000,0.000,1.000,0.000,0.000,1.000',\n",
       " 'NE,0.000,0.333,0.667,0.667,0.000,0.333,0.333,0.667,0.000,0.667,0.333,0.000,0.333,0.000,0.667,0.000,0.667,0.333',\n",
       " 'NE,0.000,1.000,0.000,1.000,0.000,0.000,0.500,0.500,0.000,0.500,0.500,0.000,0.000,0.000,1.000,0.000,0.750,0.250',\n",
       " 'NE,0.000,1.000,0.000,1.000,0.000,0.000,1.000,0.000,0.000,1.000,0.000,0.000,0.000,0.000,1.000,0.000,0.500,0.500',\n",
       " 'NE,0.000,0.000,1.000,1.000,0.000,0.000,1.000,0.000,0.000,1.000,0.000,0.000,0.000,0.000,1.000,0.000,0.000,1.000',\n",
       " 'NE,0.000,0.000,1.000,0.000,1.000,0.000,0.500,0.500,0.000,1.000,0.000,0.000,1.000,0.000,0.000,0.000,0.000,1.000',\n",
       " 'NE,0.000,0.000,1.000,0.000,0.500,0.500,0.750,0.250,0.000,1.000,0.000,0.000,1.000,0.000,0.000,0.000,0.500,0.500',\n",
       " 'NE,0.333,0.000,0.667,0.000,0.667,0.333,0.667,0.333,0.000,0.333,0.000,0.667,0.667,0.333,0.000,0.000,0.667,0.333',\n",
       " 'NE,1.000,0.000,0.000,0.000,1.000,0.000,0.500,0.500,0.000,0.000,0.000,1.000,0.500,0.500,0.000,0.000,0.750,0.250',\n",
       " 'NE,1.000,0.000,0.000,0.000,1.000,0.000,0.500,0.500,0.000,0.000,0.000,1.000,0.500,0.500,0.000,0.500,0.500,0.000',\n",
       " 'NE,0.750,0.000,0.250,0.000,1.000,0.000,0.000,0.500,0.500,0.000,0.000,1.000,0.500,0.500,0.000,0.000,0.000,1.000',\n",
       " 'NE,0.000,0.000,1.000,0.000,1.000,0.000,0.000,0.500,0.500,0.000,0.000,1.000,0.500,0.500,0.000,0.000,0.000,1.000',\n",
       " 'NE,0.000,0.000,1.000,0.000,0.000,1.000,0.000,0.000,1.000,0.000,0.000,1.000,0.000,0.000,1.000,0.000,0.000,1.000',\n",
       " 'NE,0.000,0.000,1.000,0.000,0.000,1.000,0.000,0.000,1.000,0.000,0.000,1.000,0.000,0.000,1.000,0.000,0.000,1.000',\n",
       " 'NE,0.000,0.000,1.000,0.000,1.000,0.000,0.000,0.500,0.500,0.000,0.000,1.000,0.500,0.500,0.000,0.000,0.000,1.000',\n",
       " 'NE,0.000,0.000,1.000,1.000,0.000,0.000,0.500,0.000,0.500,0.500,0.500,0.000,0.500,0.500,0.000,0.000,0.000,1.000',\n",
       " 'NE,0.000,0.000,1.000,0.000,0.000,1.000,0.000,0.000,1.000,0.000,0.000,1.000,0.000,0.000,1.000,0.000,0.000,1.000',\n",
       " 'NE,0.000,0.000,1.000,0.000,0.000,1.000,0.000,0.000,1.000,0.000,0.000,1.000,0.000,0.000,1.000,0.000,0.000,1.000',\n",
       " 'NE,0.000,0.000,1.000,1.000,0.000,0.000,0.500,0.000,0.500,0.500,0.500,0.000,0.000,0.000,1.000,0.000,0.000,1.000',\n",
       " 'NE,0.000,0.000,1.000,1.000,0.000,0.000,0.000,0.000,1.000,0.000,1.000,0.000,0.000,0.000,1.000,0.000,0.000,1.000',\n",
       " 'NE,0.000,0.000,1.000,0.000,0.000,1.000,0.000,0.000,1.000,0.000,0.000,1.000,0.000,0.000,1.000,0.000,0.000,1.000',\n",
       " 'NE,0.000,0.000,1.000,0.000,0.000,1.000,0.000,0.000,1.000,0.000,0.000,1.000,0.000,0.000,1.000,0.000,0.000,1.000',\n",
       " 'NE,1.000,0.000,0.000,0.500,0.000,0.500,0.000,0.750,0.250,0.000,0.500,0.500,1.000,0.000,0.000,1.000,0.000,0.000',\n",
       " 'NE,1.000,0.000,0.000,1.000,0.000,0.000,0.000,1.000,0.000,0.000,1.000,0.000,1.000,0.000,0.000,1.000,0.000,0.000',\n",
       " 'NE,0.500,0.000,0.500,1.000,0.000,0.000,0.000,0.000,1.000,0.000,1.000,0.000,0.500,0.000,0.500,0.500,0.000,0.500',\n",
       " 'NE,0.667,0.000,0.333,0.333,0.667,0.000,0.000,0.333,0.667,0.000,0.667,0.333,0.667,0.333,0.000,0.333,0.000,0.667',\n",
       " 'NE,0.000,0.000,1.000,0.000,0.000,1.000,0.000,0.000,1.000,0.000,0.000,1.000,0.000,0.000,1.000,0.000,0.000,1.000',\n",
       " 'NE,0.000,0.000,1.000,0.000,0.000,1.000,0.000,0.000,1.000,0.000,0.000,1.000,0.000,0.000,1.000,0.000,0.000,1.000',\n",
       " 'NE,0.000,0.000,1.000,0.000,1.000,0.000,0.000,0.500,0.500,0.000,0.750,0.250,0.500,0.500,0.000,0.000,0.000,1.000',\n",
       " 'NE,0.000,0.000,1.000,0.000,1.000,0.000,0.000,1.000,0.000,0.000,0.500,0.500,1.000,0.000,0.000,0.000,0.000,1.000',\n",
       " 'NE,0.000,0.000,1.000,1.000,0.000,0.000,0.000,1.000,0.000,0.000,1.000,0.000,1.000,0.000,0.000,0.000,0.000,1.000',\n",
       " 'NE,0.000,0.000,1.000,0.500,0.000,0.500,0.000,1.000,0.000,0.000,1.000,0.000,1.000,0.000,0.000,0.000,1.000,0.000',\n",
       " 'NE,0.000,0.000,1.000,0.000,0.500,0.500,0.000,1.000,0.000,0.000,0.500,0.500,1.000,0.000,0.000,0.000,0.500,0.500',\n",
       " 'NE,1.000,0.000,0.000,0.000,1.000,0.000,0.000,1.000,0.000,0.000,0.000,1.000,1.000,0.000,0.000,0.000,0.500,0.500',\n",
       " 'NE,0.000,0.000,1.000,0.000,1.000,0.000,0.000,1.000,0.000,0.000,0.000,1.000,1.000,0.000,0.000,0.000,0.000,1.000']"
      ]
     },
     "execution_count": 77,
     "metadata": {},
     "output_type": "execute_result"
    }
   ],
   "source": [
    "eqbs = weagree_static.just_equilibria()\n",
    "\n",
    "eqbs"
   ]
  },
  {
   "cell_type": "markdown",
   "metadata": {},
   "source": [
    "Refer to gambit for how to read these results. We can now calculate the mutual info between sender and receiver in these results:"
   ]
  },
  {
   "cell_type": "code",
   "execution_count": 78,
   "metadata": {
    "collapsed": false
   },
   "outputs": [
    {
     "data": {
      "text/plain": [
       "([0.0,\n",
       "  0.0,\n",
       "  1.5849625007211559,\n",
       "  1.125814583693911,\n",
       "  0.8962406251802889,\n",
       "  0.6666666666666666,\n",
       "  0.9182958340544893,\n",
       "  0.9182958340544893,\n",
       "  0.0,\n",
       "  0.0,\n",
       "  0.9182958340544893,\n",
       "  1.1258145836939113,\n",
       "  1.5849625007211559,\n",
       "  1.1258145836939113,\n",
       "  0.896240625180289,\n",
       "  0.9182958340544893,\n",
       "  0.0,\n",
       "  0.0,\n",
       "  0.6666666666666666,\n",
       "  0.9182958340544893,\n",
       "  0.0,\n",
       "  0.0,\n",
       "  0.9182958340544893,\n",
       "  1.1258145836939113,\n",
       "  1.5849625007211559,\n",
       "  0.9182958340544893,\n",
       "  0.6666666666666666,\n",
       "  0.9182958340544893,\n",
       "  0.0,\n",
       "  0.0,\n",
       "  0.896240625180289,\n",
       "  0.6670003607339176,\n",
       "  0.6666666666666666,\n",
       "  0.9182958340544893,\n",
       "  0.896240625180289,\n",
       "  1.1258145836939113,\n",
       "  1.5849625007211559,\n",
       "  0.9182958340544893,\n",
       "  0.6666666666666666,\n",
       "  0.0,\n",
       "  0.6666666666666666,\n",
       "  0.6670003607339174,\n",
       "  0.0,\n",
       "  0.6666666666666666,\n",
       "  0.8962406251802889,\n",
       "  0.6666666666666666,\n",
       "  0.0,\n",
       "  0.6670003607339174,\n",
       "  0.6666666666666666,\n",
       "  0.9182958340544893,\n",
       "  0.9182958340544893,\n",
       "  1.125814583693911,\n",
       "  0.896240625180289,\n",
       "  0.6670003607339176,\n",
       "  0.6666666666666666,\n",
       "  0.6666666666666666,\n",
       "  0.8962406251802889,\n",
       "  0.6666666666666666,\n",
       "  0.0,\n",
       "  0.0,\n",
       "  0.6666666666666666,\n",
       "  0.6666666666666666,\n",
       "  0.0,\n",
       "  0.0,\n",
       "  0.6666666666666666,\n",
       "  0.9182958340544893,\n",
       "  0.0,\n",
       "  0.0,\n",
       "  0.896240625180289,\n",
       "  0.9182958340544893,\n",
       "  0.6666666666666666,\n",
       "  0.6670003607339176,\n",
       "  0.0,\n",
       "  0.0,\n",
       "  0.6666666666666666,\n",
       "  0.9182958340544893,\n",
       "  1.5849625007211559,\n",
       "  1.1258145836939113,\n",
       "  0.6666666666666666,\n",
       "  0.9182958340544893,\n",
       "  0.9182958340544893],\n",
       " [0.0,\n",
       "  0.0,\n",
       "  1.5849625007211559,\n",
       "  0.9182958340544893,\n",
       "  1.0,\n",
       "  1.0,\n",
       "  0.9182958340544893,\n",
       "  0.9182958340544893,\n",
       "  0.0,\n",
       "  0.0,\n",
       "  0.9182958340544893,\n",
       "  0.9182958340544893,\n",
       "  1.5849625007211559,\n",
       "  0.9182958340544893,\n",
       "  1.0,\n",
       "  0.9182958340544893,\n",
       "  0.0,\n",
       "  0.0,\n",
       "  1.0,\n",
       "  0.9182958340544893,\n",
       "  0.0,\n",
       "  0.0,\n",
       "  0.9182958340544893,\n",
       "  0.9182958340544893,\n",
       "  1.5849625007211559,\n",
       "  0.9182958340544893,\n",
       "  1.0,\n",
       "  0.9182958340544893,\n",
       "  0.0,\n",
       "  0.0,\n",
       "  1.0,\n",
       "  0.6670003607339176,\n",
       "  1.0,\n",
       "  0.9182958340544893,\n",
       "  1.0,\n",
       "  0.9182958340544893,\n",
       "  1.5849625007211559,\n",
       "  0.9182958340544893,\n",
       "  1.0,\n",
       "  0.0,\n",
       "  1.0,\n",
       "  0.6670003607339176,\n",
       "  0.0,\n",
       "  1.0,\n",
       "  1.0,\n",
       "  1.0,\n",
       "  0.0,\n",
       "  0.6670003607339176,\n",
       "  1.0,\n",
       "  0.9182958340544893,\n",
       "  0.9182958340544893,\n",
       "  0.9182958340544893,\n",
       "  1.0,\n",
       "  0.6670003607339176,\n",
       "  1.0,\n",
       "  1.0,\n",
       "  1.0,\n",
       "  1.0,\n",
       "  0.0,\n",
       "  0.0,\n",
       "  1.0,\n",
       "  1.0,\n",
       "  0.0,\n",
       "  0.0,\n",
       "  1.0,\n",
       "  0.9182958340544893,\n",
       "  0.0,\n",
       "  0.0,\n",
       "  1.0,\n",
       "  0.9182958340544893,\n",
       "  1.0,\n",
       "  0.6670003607339174,\n",
       "  0.0,\n",
       "  0.0,\n",
       "  1.0,\n",
       "  0.9182958340544893,\n",
       "  1.5849625007211559,\n",
       "  0.9182958340544893,\n",
       "  1.0,\n",
       "  0.9182958340544893,\n",
       "  0.9182958340544893],\n",
       " [0.0,\n",
       "  0.0,\n",
       "  1.5849625007211559,\n",
       "  0.9182958340544893,\n",
       "  0.6666666666666666,\n",
       "  0.6666666666666666,\n",
       "  0.9182958340544893,\n",
       "  0.9182958340544893,\n",
       "  0.0,\n",
       "  0.0,\n",
       "  0.9182958340544893,\n",
       "  0.9182958340544893,\n",
       "  1.5849625007211559,\n",
       "  0.9182958340544893,\n",
       "  0.6666666666666666,\n",
       "  0.9182958340544893,\n",
       "  0.0,\n",
       "  0.0,\n",
       "  0.6666666666666666,\n",
       "  0.9182958340544893,\n",
       "  0.0,\n",
       "  0.0,\n",
       "  0.9182958340544893,\n",
       "  0.9182958340544893,\n",
       "  1.5849625007211559,\n",
       "  0.9182958340544893,\n",
       "  0.6666666666666666,\n",
       "  0.9182958340544893,\n",
       "  0.0,\n",
       "  0.0,\n",
       "  0.6666666666666666,\n",
       "  0.1932602207466792,\n",
       "  0.6666666666666666,\n",
       "  0.9182958340544893,\n",
       "  0.6666666666666666,\n",
       "  0.9182958340544893,\n",
       "  1.5849625007211559,\n",
       "  0.9182958340544893,\n",
       "  0.6666666666666666,\n",
       "  0.0,\n",
       "  0.6666666666666666,\n",
       "  0.1932602207466792,\n",
       "  0.0,\n",
       "  0.6666666666666666,\n",
       "  0.6666666666666666,\n",
       "  0.6666666666666666,\n",
       "  0.0,\n",
       "  0.1932602207466792,\n",
       "  0.6666666666666666,\n",
       "  0.9182958340544893,\n",
       "  0.9182958340544893,\n",
       "  0.9182958340544893,\n",
       "  0.6666666666666666,\n",
       "  0.1932602207466792,\n",
       "  0.6666666666666666,\n",
       "  0.6666666666666666,\n",
       "  0.6666666666666666,\n",
       "  0.6666666666666666,\n",
       "  0.0,\n",
       "  0.0,\n",
       "  0.6666666666666666,\n",
       "  0.6666666666666666,\n",
       "  0.0,\n",
       "  0.0,\n",
       "  0.6666666666666666,\n",
       "  0.9182958340544893,\n",
       "  0.0,\n",
       "  0.0,\n",
       "  0.6666666666666666,\n",
       "  0.9182958340544893,\n",
       "  0.6666666666666666,\n",
       "  0.1932602207466792,\n",
       "  0.0,\n",
       "  0.0,\n",
       "  0.6666666666666666,\n",
       "  0.9182958340544893,\n",
       "  1.5849625007211559,\n",
       "  0.9182958340544893,\n",
       "  0.6666666666666666,\n",
       "  0.9182958340544893,\n",
       "  0.9182958340544893])"
      ]
     },
     "execution_count": 78,
     "metadata": {},
     "output_type": "execute_result"
    }
   ],
   "source": [
    "weagree_static.calculate_info_content(eqbs)"
   ]
  },
  {
   "cell_type": "markdown",
   "metadata": {},
   "source": [
    "Unsurprisingly, we have a lot of 1.58... values. That's $\\log_2 3$, the mutual info for a signaling system in these games.\n",
    "\n",
    "Let's turn now to the dynamic analysis:\n",
    "\n",
    "# 4. Dynamic Analysis"
   ]
  },
  {
   "cell_type": "code",
   "execution_count": 15,
   "metadata": {
    "collapsed": true
   },
   "outputs": [],
   "source": [
    "weagree_pf = s.Payoffs_Functions(weagree, strats)"
   ]
  },
  {
   "cell_type": "markdown",
   "metadata": {},
   "source": [
    "`weagree_pf` gives us a couple of functions. `avgpayoff(a, b)` calculates the average payoff for a sender following the strategy `strats.senderstrategies[a]` and a receiver following `strats.receiverstrategies[b]`:"
   ]
  },
  {
   "cell_type": "code",
   "execution_count": 27,
   "metadata": {
    "collapsed": false
   },
   "outputs": [
    {
     "data": {
      "text/plain": [
       "array([ 2.,  2.])"
      ]
     },
     "execution_count": 27,
     "metadata": {},
     "output_type": "execute_result"
    }
   ],
   "source": [
    "weagree_pf.avgpayoff(1, 2)"
   ]
  },
  {
   "cell_type": "code",
   "execution_count": 28,
   "metadata": {
    "collapsed": false
   },
   "outputs": [
    {
     "data": {
      "text/plain": [
       "(array([0, 0, 1]), array([0, 0, 2]))"
      ]
     },
     "execution_count": 28,
     "metadata": {},
     "output_type": "execute_result"
    }
   ],
   "source": [
    "strats.senderstrategies[1], strats.receiverstrategies[2]"
   ]
  },
  {
   "cell_type": "markdown",
   "metadata": {},
   "source": [
    "Check that this is correct, and try other values.\n",
    "\n",
    "Now, `s.Game` generates a game that can be fed to a ODE solver:"
   ]
  },
  {
   "cell_type": "code",
   "execution_count": 29,
   "metadata": {
    "collapsed": true
   },
   "outputs": [],
   "source": [
    "weagree_game = s.Game(weagree_pf.avgpayoff, strats)"
   ]
  },
  {
   "cell_type": "markdown",
   "metadata": {},
   "source": [
    "`weagree_game` is where the action is, really. the various functions it provides calculate the RHS for the equations in the system that ODE solvers will solve, and does so with fast NumPy linear algebra. We can now solve this game for a random population structure, to see how it works. We first `import calculations.py`, which is the module that solves ODEs."
   ]
  },
  {
   "cell_type": "code",
   "execution_count": 32,
   "metadata": {
    "collapsed": true
   },
   "outputs": [],
   "source": [
    "import calculations as c"
   ]
  },
  {
   "cell_type": "code",
   "execution_count": 33,
   "metadata": {
    "collapsed": true
   },
   "outputs": [],
   "source": [
    "sender_init = strats.random_sender()\n",
    "receiver_init = strats.random_receiver()"
   ]
  },
  {
   "cell_type": "code",
   "execution_count": 40,
   "metadata": {
    "collapsed": false
   },
   "outputs": [],
   "source": [
    "evol = c.one_run_odeint(weagree_game, sender_init, receiver_init)"
   ]
  },
  {
   "cell_type": "markdown",
   "metadata": {},
   "source": [
    "the evolution calculated in `evol` is convergent (the propotion of a certain sender strat and receiver strat quickly grows to 1):"
   ]
  },
  {
   "cell_type": "code",
   "execution_count": 43,
   "metadata": {
    "collapsed": false
   },
   "outputs": [
    {
     "data": {
      "image/png": "[encoded data removed]",
      "text/plain": [
       "<matplotlib.figure.Figure at 0xb107cd0c>"
      ]
     },
     "metadata": {},
     "output_type": "display_data"
    }
   ],
   "source": [
    "%matplotlib inline\n",
    "import matplotlib.pyplot as plt\n",
    "plt.plot(evol)\n",
    "plt.show()"
   ]
  },
  {
   "cell_type": "markdown",
   "metadata": {},
   "source": [
    "Let's see what the final population is doing:"
   ]
  },
  {
   "cell_type": "code",
   "execution_count": 53,
   "metadata": {
    "collapsed": true
   },
   "outputs": [],
   "source": [
    "sender_final, receiver_final = s.np.split(evol[-1], 2)"
   ]
  },
  {
   "cell_type": "code",
   "execution_count": 58,
   "metadata": {
    "collapsed": false
   },
   "outputs": [
    {
     "data": {
      "text/plain": [
       "(array([1, 2, 0]), array([0, 2, 1]))"
      ]
     },
     "execution_count": 58,
     "metadata": {},
     "output_type": "execute_result"
    }
   ],
   "source": [
    "strats.senderstrategies[sender_final.argmax()], strats.receiverstrategies[receiver_final.argmax()]\n",
    "# This gives the strategies with the highest frequency (which we know is 1)\n",
    "# for sender and receiver in the final population state"
   ]
  },
  {
   "cell_type": "markdown",
   "metadata": {},
   "source": [
    "Check that this combination of sender and receiver strategies takes them to the highest payoff for every state, as expected. We can also check directly the mutual info between senders and receivers in the final snapshot:"
   ]
  },
  {
   "cell_type": "code",
   "execution_count": 81,
   "metadata": {
    "collapsed": false
   },
   "outputs": [
    {
     "data": {
      "text/plain": [
       "1.5849625007211541"
      ]
     },
     "execution_count": 81,
     "metadata": {},
     "output_type": "execute_result"
    }
   ],
   "source": [
    "info = s.Information(strats, s.np.concatenate((sender_final, receiver_final)))\n",
    "info.mutual_info_states_acts()"
   ]
  },
  {
   "cell_type": "markdown",
   "metadata": {},
   "source": [
    "A signaling system, as expected.\n",
    "\n",
    "In this exercise, we have used `scipy.odeint`. `calculations` can also calculate evolutions according to the discrete-time replicator dynamics:"
   ]
  },
  {
   "cell_type": "code",
   "execution_count": 60,
   "metadata": {
    "collapsed": false
   },
   "outputs": [],
   "source": [
    "evol_discrete = c.one_run_discrete(weagree_game, sender_init, receiver_init)"
   ]
  },
  {
   "cell_type": "code",
   "execution_count": 61,
   "metadata": {
    "collapsed": false
   },
   "outputs": [
    {
     "data": {
      "image/png": "[encoded data removed]",
      "text/plain": [
       "<matplotlib.figure.Figure at 0xaf57c16c>"
      ]
     },
     "metadata": {},
     "output_type": "display_data"
    }
   ],
   "source": [
    "plt.plot(evol_discrete)\n",
    "plt.show()"
   ]
  },
  {
   "cell_type": "code",
   "execution_count": 62,
   "metadata": {
    "collapsed": true
   },
   "outputs": [],
   "source": [
    "sender_final_disc, receiver_final_disc = s.np.split(evol_discrete[-1], 2)"
   ]
  },
  {
   "cell_type": "code",
   "execution_count": 63,
   "metadata": {
    "collapsed": false
   },
   "outputs": [
    {
     "data": {
      "text/plain": [
       "(array([1, 2, 0]), array([0, 2, 1]))"
      ]
     },
     "execution_count": 63,
     "metadata": {},
     "output_type": "execute_result"
    }
   ],
   "source": [
    "strats.senderstrategies[sender_final_disc.argmax()], strats.receiverstrategies[receiver_final_disc.argmax()]"
   ]
  },
  {
   "cell_type": "markdown",
   "metadata": {},
   "source": [
    "`calculations` also provides access to the more flexible scipy.integrate.ode family of solvers."
   ]
  },
  {
   "cell_type": "code",
   "execution_count": null,
   "metadata": {
    "collapsed": true
   },
   "outputs": [],
   "source": []
  }
 ],
 "metadata": {
  "kernelspec": {
   "display_name": "Python 3",
   "language": "python",
   "name": "python3"
  },
  "language_info": {
   "codemirror_mode": {
    "name": "ipython",
    "version": 3
   },
   "file_extension": ".py",
   "mimetype": "text/x-python",
   "name": "python",
   "nbconvert_exporter": "python",
   "pygments_lexer": "ipython3",
   "version": "3.4.3"
  }
 },
 "nbformat": 4,
 "nbformat_minor": 0
}
